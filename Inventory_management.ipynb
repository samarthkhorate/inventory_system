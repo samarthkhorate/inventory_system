{
 "cells": [
  {
   "cell_type": "code",
   "execution_count": 1,
   "id": "fdac51cb-a49d-44e7-97b2-52185f31c435",
   "metadata": {
    "editable": true,
    "slideshow": {
     "slide_type": ""
    },
    "tags": []
   },
   "outputs": [],
   "source": [
    "fd = open(\"Inventory.txt\",'w') #open the file\n",
    "\n",
    "fd.close()"
   ]
  },
  {
   "cell_type": "markdown",
   "id": "ec40c9bf-0c9a-4a4a-83b0-bee26c59ef85",
   "metadata": {
    "editable": true,
    "slideshow": {
     "slide_type": ""
    },
    "tags": []
   },
   "source": [
    "## product details ##\n",
    "\n",
    "1. Product ID\n",
    "2. Name of Product\n",
    "3. Price of Product\n",
    "4. Quantity"
   ]
  },
  {
   "cell_type": "markdown",
   "id": "edfd0b31-e703-4bfc-a955-0e3bcb22ab9f",
   "metadata": {
    "editable": true,
    "slideshow": {
     "slide_type": ""
    },
    "tags": []
   },
   "source": [
    "## List Of Product ##\n"
   ]
  },
  {
   "cell_type": "code",
   "execution_count": 6,
   "id": "da60d39e-2983-4716-b33a-682bc06a98e3",
   "metadata": {},
   "outputs": [],
   "source": [
    "fd = open(\"Inventory.txt\",'r')\n",
    "\n",
    "products = fd.read().split('\\n')\n",
    "\n",
    "fd.close()"
   ]
  },
  {
   "cell_type": "code",
   "execution_count": 7,
   "id": "f8d9b109-9e88-416b-8721-2aa0a944b94b",
   "metadata": {},
   "outputs": [
    {
     "name": "stdout",
     "output_type": "stream",
     "text": [
      "['1', '5 star', '5', '100']\n",
      "['2', 'Milky Bar', '10', '200']\n",
      "['3', 'Cake', '300', '150']\n",
      "['4', 'Candy', '1', '800']\n",
      "['5', 'Chips', '50', '500']\n",
      "['6', 'Soda', '2', '300']\n",
      "['7', 'Biscuit', '30', '250']\n",
      "['8', 'Juice', '20', '450']\n",
      "['9', 'Chocolate', '5', '120']\n",
      "['10', 'Cookie', '15', '350']\n",
      "['11', 'Ice Cream', '25', '400']\n",
      "['12', 'Muffin', '3', '150']\n",
      "['13', 'Crackers', '100', '700']\n",
      "['14', 'Pastry', '45', '600']\n",
      "['15', 'Lollipop', '1', '1000']\n",
      "['16', 'Brownie', '150', '50']\n",
      "['17', 'Pie', '10', '900']\n",
      "['18', 'Gum', '2', '800']\n",
      "['19', 'Pudding', '40', '300']\n",
      "['20', 'Cheesecake', '60', '200']\n",
      "['21', 'Doughnut', '70', '500']\n",
      "['22', 'Fudge', '20', '750']\n",
      "['23', 'Marshmallow', '35', '900']\n",
      "['24', 'Popcorn', '150', '100']\n",
      "['25', 'Toffee', '55', '600']\n",
      "['26', 'Gelato', '4', '700']\n",
      "['27', 'Caramel', '5', '1000']\n",
      "['28', 'Taffy', '2', '300']\n",
      "['29', 'Bagel', '10', '450']\n",
      "['30', 'Tart', '8', '600']\n",
      "['31', 'Wafer', '12', '500']\n",
      "['32', 'Pretzel', '20', '150']\n",
      "['33', 'Croissant', '90', '800']\n",
      "['34', 'Babka', '30', '350']\n",
      "['35', 'Eclair', '50', '400']\n",
      "['36', 'Macaron', '1', '1200']\n",
      "['37', 'Scone', '3', '750']\n",
      "['38', 'Truffle', '200', '100']\n",
      "['39', 'Brulee', '25', '650']\n",
      "['40', 'Pecan Pie', '300', '50']\n",
      "['41', 'Tiramisu', '150', '900']\n",
      "['42', 'Fruitcake', '10', '500']\n",
      "['43', 'Sundae', '5', '1200']\n",
      "['44', 'Meringue', '35', '700']\n",
      "['45', 'Shortbread', '75', '800']\n",
      "['46', 'Parfait', '60', '250']\n",
      "['47', 'Churro', '20', '350']\n",
      "['48', 'Souffle', '100', '450']\n",
      "['49', 'Granola Bar', '12', '550']\n",
      "['50', 'Cobbler', '5', '1100']\n",
      "['51', 'Cream Puff', '8', '600']\n",
      "['52', 'Donut', '30', '300']\n",
      "['53', 'Popsicle', '15', '900']\n",
      "['54', 'Strudel', '4', '1000']\n",
      "['55', 'Panettone', '7', '750']\n",
      "['56', 'Mochi', '20', '850']\n",
      "['57', 'Biscotti', '45', '300']\n",
      "['58', 'Sponge Cake', '80', '400']\n",
      "['59', 'Lemon Bar', '25', '500']\n",
      "['60', 'Profiterole', '100', '200']\n",
      "['61', 'Tartlet', '6', '1200']\n",
      "['62', 'Angel Cake', '40', '650']\n",
      "['63', 'Blondie', '90', '800']\n",
      "['64', 'Rice Pudding', '30', '100']\n",
      "['65', 'Custard', '70', '700']\n",
      "['66', 'Egg Tart', '5', '1100']\n",
      "['67', 'Funnel Cake', '50', '600']\n",
      "['68', 'Turkish Delight', '15', '1200']\n",
      "['69', 'Baklava', '20', '300']\n",
      "['70', 'Swiss Roll', '55', '800']\n",
      "['71', 'Florentine', '1', '900']\n",
      "['72', 'Chiffon Cake', '12', '1000']\n",
      "['73', 'Crepe', '5', '750']\n",
      "['74', 'Zabaglione', '10', '450']\n",
      "['75', 'Snowball', '2', '550']\n",
      "['76', 'Panforte', '4', '1200']\n",
      "['77', 'Flan', '8', '300']\n",
      "['78', 'Marzipan', '30', '1000']\n",
      "['79', 'Cannoli', '15', '650']\n",
      "['80', 'Rugelach', '5', '800']\n",
      "['81', 'Mousse', '25', '150']\n",
      "['82', 'Semifreddo', '35', '400']\n",
      "['83', 'Gingersnap', '50', '500']\n",
      "['84', 'CrÃ¨me Caramel', '70', '200']\n",
      "['85', 'Fritters', '60', '1200']\n",
      "['86', 'Black Forest Cake', '40', '700']\n",
      "['87', 'Pavlova', '1', '900']\n",
      "['88', 'Panna Cotta', '12', '450']\n",
      "['89', 'CrÃ¨me BrÃ»lÃ©e', '2', '750']\n",
      "['90', 'Fudge Brownie', '20', '500']\n",
      "['91', 'Coconut Macaroon', '15', '600']\n",
      "['92', 'Boston Cream Pie', '25', '100']\n",
      "['93', 'Linzer Torte', '30', '800']\n",
      "['94', 'Clafoutis', '40', '700']\n",
      "['95', 'Rice Krispie Treat', '5', '900']\n",
      "['96', 'Tarte Tatin', '10', '1200']\n",
      "['97', 'Stollen', '20', '300']\n",
      "['98', 'Speculoos', '8', '450']\n",
      "['99', 'Opera Cake', '1', '1100']\n",
      "['100', 'Banana Bread', '3', '500']\n"
     ]
    }
   ],
   "source": [
    "for product in products:\n",
    "    print(product.split(','))"
   ]
  },
  {
   "cell_type": "markdown",
   "id": "3b302be2-1fe9-4fdc-a4f9-c22bb2e588b6",
   "metadata": {
    "editable": true,
    "slideshow": {
     "slide_type": ""
    },
    "tags": []
   },
   "source": [
    "### product ID  ###"
   ]
  },
  {
   "cell_type": "code",
   "execution_count": 19,
   "id": "6f199c58-60a6-462c-ba35-e385a1010e73",
   "metadata": {},
   "outputs": [
    {
     "name": "stdout",
     "output_type": "stream",
     "text": [
      "1\n",
      "2\n",
      "3\n",
      "4\n",
      "5\n",
      "6\n",
      "7\n",
      "8\n",
      "9\n",
      "10\n",
      "11\n",
      "12\n",
      "13\n",
      "14\n",
      "15\n",
      "16\n",
      "17\n",
      "18\n",
      "19\n",
      "20\n",
      "21\n",
      "22\n",
      "23\n",
      "24\n",
      "25\n",
      "26\n",
      "27\n",
      "28\n",
      "29\n",
      "30\n",
      "31\n",
      "32\n",
      "33\n",
      "34\n",
      "35\n",
      "36\n",
      "37\n",
      "38\n",
      "39\n",
      "40\n",
      "41\n",
      "42\n",
      "43\n",
      "44\n",
      "45\n",
      "46\n",
      "47\n",
      "48\n",
      "49\n",
      "50\n",
      "51\n",
      "52\n",
      "53\n",
      "54\n",
      "55\n",
      "56\n",
      "57\n",
      "58\n",
      "59\n",
      "60\n",
      "61\n",
      "62\n",
      "63\n",
      "64\n",
      "65\n",
      "66\n",
      "67\n",
      "68\n",
      "69\n",
      "70\n",
      "71\n",
      "72\n",
      "73\n",
      "74\n",
      "75\n",
      "76\n",
      "77\n",
      "78\n",
      "79\n",
      "80\n",
      "81\n",
      "82\n",
      "83\n",
      "84\n",
      "85\n",
      "86\n",
      "87\n",
      "88\n",
      "89\n",
      "90\n",
      "91\n",
      "92\n",
      "93\n",
      "94\n",
      "95\n",
      "96\n",
      "97\n",
      "98\n",
      "99\n",
      "100\n"
     ]
    }
   ],
   "source": [
    "for product in products:\n",
    "    print(product.split(',')[0])"
   ]
  },
  {
   "cell_type": "markdown",
   "id": "197b8957-8426-422e-af91-70b4bfbf322d",
   "metadata": {},
   "source": [
    "### Searching with the help of ID ###"
   ]
  },
  {
   "cell_type": "code",
   "execution_count": 8,
   "id": "a40b18a4-3292-4655-acb8-2f93628f90ab",
   "metadata": {},
   "outputs": [
    {
     "name": "stdout",
     "output_type": "stream",
     "text": [
      "1,5 star,5,100\n",
      "2,Milky Bar,10,200\n",
      "3,Cake,300,150\n",
      "4,Candy,1,800\n",
      "5,Chips,50,500\n",
      "6,Soda,2,300\n",
      "7,Biscuit,30,250\n",
      "8,Juice,20,450\n",
      "9,Chocolate,5,120\n",
      "10,Cookie,15,350\n",
      "11,Ice Cream,25,400\n",
      "12,Muffin,3,150\n",
      "13,Crackers,100,700\n",
      "14,Pastry,45,600\n",
      "15,Lollipop,1,1000\n",
      "16,Brownie,150,50\n",
      "17,Pie,10,900\n",
      "18,Gum,2,800\n",
      "19,Pudding,40,300\n",
      "20,Cheesecake,60,200\n",
      "21,Doughnut,70,500\n",
      "22,Fudge,20,750\n",
      "23,Marshmallow,35,900\n",
      "24,Popcorn,150,100\n",
      "25,Toffee,55,600\n",
      "26,Gelato,4,700\n",
      "27,Caramel,5,1000\n",
      "28,Taffy,2,300\n",
      "29,Bagel,10,450\n",
      "30,Tart,8,600\n",
      "31,Wafer,12,500\n",
      "32,Pretzel,20,150\n",
      "33,Croissant,90,800\n",
      "34,Babka,30,350\n",
      "35,Eclair,50,400\n",
      "36,Macaron,1,1200\n",
      "37,Scone,3,750\n",
      "38,Truffle,200,100\n",
      "39,Brulee,25,650\n",
      "40,Pecan Pie,300,50\n",
      "41,Tiramisu,150,900\n",
      "42,Fruitcake,10,500\n",
      "43,Sundae,5,1200\n",
      "44,Meringue,35,700\n",
      "45,Shortbread,75,800\n",
      "46,Parfait,60,250\n",
      "47,Churro,20,350\n",
      "48,Souffle,100,450\n",
      "49,Granola Bar,12,550\n",
      "50,Cobbler,5,1100\n",
      "51,Cream Puff,8,600\n",
      "52,Donut,30,300\n",
      "53,Popsicle,15,900\n",
      "54,Strudel,4,1000\n",
      "55,Panettone,7,750\n",
      "56,Mochi,20,850\n",
      "57,Biscotti,45,300\n",
      "58,Sponge Cake,80,400\n",
      "59,Lemon Bar,25,500\n",
      "60,Profiterole,100,200\n",
      "61,Tartlet,6,1200\n",
      "62,Angel Cake,40,650\n",
      "63,Blondie,90,800\n",
      "64,Rice Pudding,30,100\n",
      "65,Custard,70,700\n",
      "66,Egg Tart,5,1100\n",
      "67,Funnel Cake,50,600\n",
      "68,Turkish Delight,15,1200\n",
      "69,Baklava,20,300\n",
      "70,Swiss Roll,55,800\n",
      "71,Florentine,1,900\n",
      "72,Chiffon Cake,12,1000\n",
      "73,Crepe,5,750\n",
      "74,Zabaglione,10,450\n",
      "75,Snowball,2,550\n",
      "76,Panforte,4,1200\n",
      "77,Flan,8,300\n",
      "78,Marzipan,30,1000\n",
      "79,Cannoli,15,650\n",
      "80,Rugelach,5,800\n",
      "81,Mousse,25,150\n",
      "82,Semifreddo,35,400\n",
      "83,Gingersnap,50,500\n",
      "84,CrÃ¨me Caramel,70,200\n",
      "85,Fritters,60,1200\n",
      "86,Black Forest Cake,40,700\n",
      "87,Pavlova,1,900\n",
      "88,Panna Cotta,12,450\n",
      "89,CrÃ¨me BrÃ»lÃ©e,2,750\n",
      "90,Fudge Brownie,20,500\n",
      "91,Coconut Macaroon,15,600\n",
      "92,Boston Cream Pie,25,100\n",
      "93,Linzer Torte,30,800\n",
      "94,Clafoutis,40,700\n",
      "95,Rice Krispie Treat,5,900\n",
      "96,Tarte Tatin,10,1200\n",
      "97,Stollen,20,300\n",
      "98,Speculoos,8,450\n",
      "99,Opera Cake,1,1100\n",
      "100,Banana Bread,3,500\n"
     ]
    }
   ],
   "source": [
    "for i in products:\n",
    "    print(i)     #print list of product"
   ]
  },
  {
   "cell_type": "code",
   "execution_count": 9,
   "id": "debdafac-4d57-4bb1-a876-26934b005e7a",
   "metadata": {},
   "outputs": [
    {
     "name": "stdin",
     "output_type": "stream",
     "text": [
      "Enter Product ID  1\n"
     ]
    },
    {
     "name": "stdout",
     "output_type": "stream",
     "text": [
      "1,5 star,5,100\n"
     ]
    }
   ],
   "source": [
    "pro_id = input (\"Enter Product ID \" )\n",
    "\n",
    "for product in products:\n",
    "    if(product.split(',')[0] == pro_id):\n",
    "        print(products[0])"
   ]
  },
  {
   "cell_type": "markdown",
   "id": "fd8b3c9a-4510-47b2-81e2-9db7ddf677a0",
   "metadata": {
    "editable": true,
    "slideshow": {
     "slide_type": ""
    },
    "tags": []
   },
   "source": [
    "## SEARCHING THE PRODUCT ##"
   ]
  },
  {
   "cell_type": "code",
   "execution_count": 10,
   "id": "1d02dfb5-f290-451d-a5cb-f5ae2933082e",
   "metadata": {},
   "outputs": [
    {
     "name": "stdin",
     "output_type": "stream",
     "text": [
      "Enter the product ID  1\n"
     ]
    },
    {
     "name": "stdout",
     "output_type": "stream",
     "text": [
      "Product Name :  5 star\n",
      "Product price :  5\n",
      "Product quantity :  100\n"
     ]
    }
   ],
   "source": [
    "pro_id = input(\"Enter the product ID \" )\n",
    "\n",
    "for product in products:\n",
    "    pro_det = product.split(',')\n",
    "\n",
    "    if (pro_det[0] == pro_id):\n",
    "         print(\"Product Name : \",pro_det[1])\n",
    "         print(\"Product price : \",pro_det[2])\n",
    "         print(\"Product quantity : \",pro_det[3])"
   ]
  },
  {
   "cell_type": "markdown",
   "id": "c41755ab-e753-4620-9c2c-7316eadab0e0",
   "metadata": {},
   "source": [
    "## BILLING ##\n",
    "\n"
   ]
  },
  {
   "cell_type": "code",
   "execution_count": 18,
   "id": "764b76af-4d83-4fb3-850e-5c66eb3f8cf6",
   "metadata": {
    "editable": true,
    "slideshow": {
     "slide_type": ""
    },
    "tags": []
   },
   "outputs": [
    {
     "name": "stdin",
     "output_type": "stream",
     "text": [
      "Enter the product ID  100\n",
      "Enter the Quantity 10\n"
     ]
    },
    {
     "name": "stdout",
     "output_type": "stream",
     "text": [
      "Product Name :  Banana Bread\n",
      "Product price :  3\n",
      "taken quantity :  10\n",
      "Total bill :  30\n",
      "['100', 'Banana Bread', '3', '490']\n"
     ]
    }
   ],
   "source": [
    "pro_id = input(\"Enter the product ID \" )  #taking input from user\n",
    "pro_qn = input(\"Enter the Quantity\" )\n",
    "\n",
    "for product in products:\n",
    "    pro_det = product.split(',')\n",
    "\n",
    "    if (pro_det[0] == pro_id):\n",
    "         print(\"Product Name : \",pro_det[1])\n",
    "         print(\"Product price : \",pro_det[2])\n",
    "         print(\"taken quantity : \",pro_qn)\n",
    "         print (\"Total bill : \", int(pro_qn)* int(pro_det[2]))\n",
    "\n",
    "         pro_det[3] = str(int(pro_det[3]) - int(pro_qn))\n",
    "\n",
    "print(pro_det)\n",
    "\n",
    "    "
   ]
  },
  {
   "cell_type": "markdown",
   "id": "68b3c178-899b-40e9-8c9e-8db5b78ce783",
   "metadata": {},
   "source": [
    "## USER CHOOSE TWO PRODUCT ##\n"
   ]
  },
  {
   "cell_type": "code",
   "execution_count": 25,
   "id": "ada30365-3dc8-4a0b-a7c7-e87ec83703ce",
   "metadata": {},
   "outputs": [
    {
     "name": "stdin",
     "output_type": "stream",
     "text": [
      "Enter Product Id :  1\n",
      "Enter Product Quantity :  95\n"
     ]
    },
    {
     "name": "stdout",
     "output_type": "stream",
     "text": [
      "----------------------------\n",
      "Product name : 5 star\n",
      "Product price : 5\n",
      "Product Quantity : 95\n",
      "----------------------------\n",
      "Billing Amount:  475\n",
      "----------------------------\n"
     ]
    }
   ],
   "source": [
    "fd = open ('Inventory.txt','r')\n",
    "\n",
    "products = fd.read().split('\\n')\n",
    "fd.close()\n",
    "\n",
    "pro_id = input(\"Enter Product Id : \")\n",
    "pro_qn = input(\"Enter Product Quantity : \")\n",
    "\n",
    "updated_product_lst = []\n",
    "\n",
    "for product in products:\n",
    "    pro_det = product.split(',')\n",
    "    if(pro_det[0] == pro_id):\n",
    "        if (int(pro_qn) <= int(pro_det [3])):\n",
    "            print(\"----------------------------\")\n",
    "            print(\"Product name :\",pro_det[1])\n",
    "            print(\"Product price :\",pro_det[2])\n",
    "            print(\"Product Quantity :\",pro_qn)\n",
    "            print(\"----------------------------\")\n",
    "            print(\"Billing Amount: \", int(pro_qn)* int(pro_det[2]))\n",
    "            print(\"----------------------------\")\n",
    "\n",
    "            pro_det[3] = str(int(pro_det[3]) - int(pro_qn))\n",
    "\n",
    "        updated_product_lst.append(pro_det)\n",
    "\n",
    "\n",
    "lst=[]\n",
    "\n",
    "for i in updated_product_lst:\n",
    "    pro = i[0]+ \",\" + i[1] + \",\" + i[2] + \",\" + i[3] + \"\\n\" \n",
    "    lst.append(pro)\n",
    "\n",
    "lst[-1] = lst[-1] [:-1]\n",
    "\n",
    "fd = open('Inventory.txt','w')\n",
    "\n",
    "for i in lst:\n",
    "    fd.write(i)\n",
    "\n",
    "fd.close()\n",
    "\n",
    "            "
   ]
  },
  {
   "cell_type": "markdown",
   "id": "89082957-f5e7-49f0-a4d8-052051f2fcca",
   "metadata": {},
   "source": [
    "## save customers data ##"
   ]
  },
  {
   "cell_type": "code",
   "execution_count": 28,
   "id": "af8e9918-e742-42e5-89b8-37d70d1308d2",
   "metadata": {},
   "outputs": [
    {
     "name": "stdin",
     "output_type": "stream",
     "text": [
      "Enter Product Id :  100\n",
      "Enter Product Quantity :  1\n",
      "Enter your name :  sm\n",
      "Enter your Number :  416744\n",
      "Enter your Mail :  sasas\n"
     ]
    },
    {
     "name": "stdout",
     "output_type": "stream",
     "text": [
      "Product ID not found in the inventory.\n"
     ]
    }
   ],
   "source": [
    "fd = open('Inventory.txt', 'r')\n",
    "\n",
    "products = fd.read().split('\\n')\n",
    "fd.close()\n",
    "\n",
    "pro_id = input(\"Enter Product Id : \")\n",
    "pro_qn = input(\"Enter Product Quantity : \")\n",
    "username = input(\"Enter your name : \")\n",
    "phone = input(\"Enter your Number : \")\n",
    "mail = input(\"Enter your Mail : \")\n",
    "\n",
    "updated_product_lst = []\n",
    "\n",
    "product_found = False\n",
    "\n",
    "for product in products:\n",
    "    pro_det = product.split(',')\n",
    "    if pro_det[0] == pro_id:\n",
    "        product_found = True\n",
    "        if int(pro_qn) <= int(pro_det[3]):\n",
    "            print(\"----------------------------\")\n",
    "            print(\"Product name :\", pro_det[1])\n",
    "            print(\"Product price :\", pro_det[2])\n",
    "            print(\"Product Quantity :\", pro_qn)\n",
    "            print(\"----------------------------\")\n",
    "            print(\"Billing Amount: \", int(pro_qn) * int(pro_det[2]))\n",
    "            print(\"----------------------------\")\n",
    "\n",
    "            pro_det[3] = str(int(pro_det[3]) - int(pro_qn))\n",
    "\n",
    "        updated_product_lst.append(pro_det)\n",
    "\n",
    "        fd = open(\"sales.txt\", 'a')\n",
    "        sales_det = username + \",\" + phone + \",\" + mail + \",\" + pro_id + \",\" + pro_qn + \",\" + str(int(pro_qn) * int(pro_det[2])) + '\\n'\n",
    "        fd.write(sales_det)\n",
    "        fd.close()\n",
    "\n",
    "    else:\n",
    "        updated_product_lst.append(pro_det)\n",
    "\n",
    "if not product_found:\n",
    "    print(\"Product ID not found in the inventory.\")\n",
    "\n",
    "lst = []\n",
    "\n",
    "for i in updated_product_lst:\n",
    "    pro = i[0] + \",\" + i[1] + \",\" + i[2] + \",\" + i[3] + \"\\n\"\n",
    "    lst.append(pro)\n",
    "\n",
    "if lst:  # Ensure lst is not empty before removing the last newline character\n",
    "    lst[-1] = lst[-1][:-1]\n",
    "\n",
    "fd = open('Inventory.txt', 'w')\n",
    "\n",
    "for i in lst:\n",
    "    fd.write(i)\n",
    "\n",
    "fd.close()"
   ]
  },
  {
   "cell_type": "code",
   "execution_count": null,
   "id": "0148911d-549b-4f24-b0b0-397fe0f7dd66",
   "metadata": {},
   "outputs": [],
   "source": []
  }
 ],
 "metadata": {
  "kernelspec": {
   "display_name": "Python 3 (ipykernel)",
   "language": "python",
   "name": "python3"
  },
  "language_info": {
   "codemirror_mode": {
    "name": "ipython",
    "version": 3
   },
   "file_extension": ".py",
   "mimetype": "text/x-python",
   "name": "python",
   "nbconvert_exporter": "python",
   "pygments_lexer": "ipython3",
   "version": "3.11.2"
  }
 },
 "nbformat": 4,
 "nbformat_minor": 5
}
